{
 "cells": [
  {
   "cell_type": "code",
   "execution_count": 1,
   "id": "709b2cb2",
   "metadata": {},
   "outputs": [],
   "source": [
    "import numpy as np\n",
    "import pandas as pd\n",
    "\n",
    "import matplotlib.pyplot as plt\n",
    "import matplotlib.patches as patches\n",
    "import seaborn as sns\n",
    "import plotly.express as px\n",
    "import plotly.graph_objs as go\n",
    "from plotly.offline import iplot\n",
    "\n",
    "from sklearn.model_selection import train_test_split\n",
    "from math import sqrt\n",
    "from sklearn.linear_model import Ridge\n",
    "from sklearn.linear_model import Lasso\n",
    "from sklearn.metrics import mean_squared_error as mse\n",
    "from sklearn.metrics import r2_score\n",
    "from sklearn.model_selection import GridSearchCV\n",
    "from sklearn.model_selection import RandomizedSearchCV\n",
    "import warnings\n"
   ]
  },
  {
   "cell_type": "code",
   "execution_count": 2,
   "id": "698097ee",
   "metadata": {},
   "outputs": [],
   "source": [
    "train_df = pd.read_csv('train.csv')\n",
    "features_df = pd.read_csv('features.csv')\n",
    "stores_df = pd.read_csv('stores.csv')\n",
    "test_df = pd.read_csv('test.csv')"
   ]
  },
  {
   "cell_type": "code",
   "execution_count": 4,
   "id": "e10f8211",
   "metadata": {},
   "outputs": [
    {
     "data": {
      "text/plain": [
       "Index(['Store', 'Dept', 'Date', 'Weekly_Sales', 'IsHoliday'], dtype='object')"
      ]
     },
     "execution_count": 4,
     "metadata": {},
     "output_type": "execute_result"
    }
   ],
   "source": [
    "train_df.columns"
   ]
  },
  {
   "cell_type": "code",
   "execution_count": null,
   "id": "4aff13bc",
   "metadata": {},
   "outputs": [],
   "source": [
    "train_df.head()"
   ]
  },
  {
   "cell_type": "code",
   "execution_count": 5,
   "id": "db4a6af2",
   "metadata": {},
   "outputs": [
    {
     "data": {
      "text/plain": [
       "(421570, 5)"
      ]
     },
     "execution_count": 5,
     "metadata": {},
     "output_type": "execute_result"
    }
   ],
   "source": [
    "train_df.shape"
   ]
  },
  {
   "cell_type": "code",
   "execution_count": null,
   "id": "31ae2888",
   "metadata": {},
   "outputs": [],
   "source": [
    "train_df.info()"
   ]
  },
  {
   "cell_type": "code",
   "execution_count": null,
   "id": "58bbefb8",
   "metadata": {},
   "outputs": [],
   "source": [
    "train_df.isnull()"
   ]
  },
  {
   "cell_type": "code",
   "execution_count": null,
   "id": "681b664c",
   "metadata": {},
   "outputs": [],
   "source": [
    "train_df.describe()"
   ]
  },
  {
   "cell_type": "code",
   "execution_count": null,
   "id": "9c24f548",
   "metadata": {},
   "outputs": [],
   "source": [
    "train_df.isnull().sum()"
   ]
  },
  {
   "cell_type": "code",
   "execution_count": null,
   "id": "264ca0a1",
   "metadata": {},
   "outputs": [],
   "source": [
    "features_df.head()"
   ]
  },
  {
   "cell_type": "code",
   "execution_count": null,
   "id": "f2eb723d",
   "metadata": {},
   "outputs": [],
   "source": [
    "features_df.columns"
   ]
  },
  {
   "cell_type": "code",
   "execution_count": null,
   "id": "36f6119b",
   "metadata": {},
   "outputs": [],
   "source": [
    "features_df.shape"
   ]
  },
  {
   "cell_type": "code",
   "execution_count": null,
   "id": "b71c2d69",
   "metadata": {},
   "outputs": [],
   "source": [
    "features_df.info()"
   ]
  },
  {
   "cell_type": "code",
   "execution_count": null,
   "id": "44c80005",
   "metadata": {},
   "outputs": [],
   "source": [
    "features_df.describe()"
   ]
  },
  {
   "cell_type": "code",
   "execution_count": null,
   "id": "1aa40a8b",
   "metadata": {},
   "outputs": [],
   "source": [
    "features_df.isnull()"
   ]
  },
  {
   "cell_type": "code",
   "execution_count": null,
   "id": "283afb51",
   "metadata": {},
   "outputs": [],
   "source": [
    "features_df.isnull().sum()"
   ]
  },
  {
   "cell_type": "code",
   "execution_count": null,
   "id": "2f882cf7",
   "metadata": {},
   "outputs": [],
   "source": [
    "stores_df.head()"
   ]
  },
  {
   "cell_type": "code",
   "execution_count": null,
   "id": "9685f64f",
   "metadata": {},
   "outputs": [],
   "source": [
    "stores_df.columns"
   ]
  },
  {
   "cell_type": "code",
   "execution_count": null,
   "id": "f59ff68c",
   "metadata": {},
   "outputs": [],
   "source": [
    "stores_df.shape"
   ]
  },
  {
   "cell_type": "code",
   "execution_count": null,
   "id": "cbb7a490",
   "metadata": {},
   "outputs": [],
   "source": [
    "stores_df.info()"
   ]
  },
  {
   "cell_type": "code",
   "execution_count": null,
   "id": "4fd7b05a",
   "metadata": {},
   "outputs": [],
   "source": [
    "stores_df.describe()"
   ]
  },
  {
   "cell_type": "code",
   "execution_count": null,
   "id": "25a561b3",
   "metadata": {},
   "outputs": [],
   "source": [
    "stores_df.isnull()"
   ]
  },
  {
   "cell_type": "code",
   "execution_count": null,
   "id": "7b56baba",
   "metadata": {},
   "outputs": [],
   "source": [
    "stores_df.isnull().sum()"
   ]
  },
  {
   "cell_type": "code",
   "execution_count": null,
   "id": "113bdd49",
   "metadata": {},
   "outputs": [],
   "source": [
    "labels = stores_df[\"Type\"].value_counts()[:10].index\n",
    "values = stores_df[\"Type\"].value_counts()[:10].values\n",
    "\n",
    "colors=stores_df[\"Type\"]\n",
    "\n",
    "fig = go.Figure(data=[go.Pie(labels = labels, values=values, textinfo=\"label+percent\", marker=dict(colors=colors))])\n",
    "\n",
    "fig.show()"
   ]
  },
  {
   "cell_type": "code",
   "execution_count": null,
   "id": "5f21b43a",
   "metadata": {},
   "outputs": [],
   "source": [
    "# Using the merge function to merge ans we are merging along the common column named Store\n",
    "dataset = features_df.merge(stores_df, how='inner', on='Store')\n",
    "dataset.head()"
   ]
  },
  {
   "cell_type": "code",
   "execution_count": null,
   "id": "ca35b160",
   "metadata": {},
   "outputs": [],
   "source": [
    "stores_df.head()"
   ]
  },
  {
   "cell_type": "code",
   "execution_count": null,
   "id": "838d4dd2",
   "metadata": {},
   "outputs": [],
   "source": [
    "# Total number of columns in the dataset\n",
    "dataset.columns"
   ]
  },
  {
   "cell_type": "code",
   "execution_count": null,
   "id": "7aef4826",
   "metadata": {},
   "outputs": [],
   "source": [
    "# Getting the info\n",
    "dataset.info()"
   ]
  },
  {
   "cell_type": "code",
   "execution_count": null,
   "id": "47354007",
   "metadata": {},
   "outputs": [],
   "source": [
    "# Describing the dataset\n",
    "dataset.describe()"
   ]
  },
  {
   "cell_type": "code",
   "execution_count": null,
   "id": "e8ebd725",
   "metadata": {},
   "outputs": [],
   "source": [
    "labels = dataset[\"Type\"].value_counts()[:10].index  # Taking the top 10 index\n",
    "values = dataset[\"Type\"].value_counts()[:10].values  # Taking the top 10 values\n",
    "\n",
    "colors=dataset[\"Type\"]\n",
    "\n",
    "fig = go.Figure(data=[go.Pie(labels = labels, values=values, textinfo=\"label+percent\", marker=dict(colors=colors))])\n",
    "\n",
    "fig.show()"
   ]
  },
  {
   "cell_type": "code",
   "execution_count": null,
   "id": "c7903bb6",
   "metadata": {},
   "outputs": [],
   "source": [
    "# Getting the info\n",
    "test_df.info()"
   ]
  },
  {
   "cell_type": "code",
   "execution_count": null,
   "id": "858d06e5",
   "metadata": {},
   "outputs": [],
   "source": [
    "labels = train_df[\"Dept\"].value_counts()[:10].index  # Taking the top 10 index\n",
    "values = train_df[\"Dept\"].value_counts()[:10].values  # Taking the top 10 values\n",
    "\n",
    "colors=train_df[\"Dept\"]\n",
    "\n",
    "fig = go.Figure(data=[go.Pie(labels = labels, values=values, textinfo=\"label+percent\", marker=dict(colors=colors))])\n",
    "\n",
    "fig.show()"
   ]
  },
  {
   "cell_type": "code",
   "execution_count": null,
   "id": "573b8470",
   "metadata": {},
   "outputs": [],
   "source": [
    "labels = train_df[\"Store\"].value_counts()[:10].index  # Taking the top 10 index\n",
    "values = train_df[\"Store\"].value_counts()[:10].values  # Taking the top 10 values\n",
    "\n",
    "colors=train_df[\"Store\"]\n",
    "\n",
    "fig = go.Figure(data=[go.Pie(labels = labels, values=values, textinfo=\"label+percent\", marker=dict(colors=colors))])\n",
    "\n",
    "fig.show()"
   ]
  },
  {
   "cell_type": "code",
   "execution_count": null,
   "id": "771f3c1e",
   "metadata": {},
   "outputs": [],
   "source": [
    "labels = train_df['IsHoliday'].value_counts().index # Taking the all index\n",
    "values = train_df['IsHoliday'].value_counts().values  # Taking the all values\n",
    "\n",
    "colors=train_df['IsHoliday']\n",
    "\n",
    "fig = go.Figure(data=[go.Pie(labels = labels, values=values, textinfo=\"label+percent\", marker=dict(colors=colors))])\n",
    "\n",
    "fig.show()"
   ]
  },
  {
   "cell_type": "code",
   "execution_count": null,
   "id": "18fafbf5",
   "metadata": {},
   "outputs": [],
   "source": [
    "# Total number of columns in the test_df\n",
    "test_df.columns"
   ]
  },
  {
   "cell_type": "code",
   "execution_count": null,
   "id": "579ab830",
   "metadata": {},
   "outputs": [],
   "source": [
    "# To know more about the test_df\n",
    "test_df.describe()"
   ]
  },
  {
   "cell_type": "code",
   "execution_count": null,
   "id": "3fcebf25",
   "metadata": {},
   "outputs": [],
   "source": [
    "train_df.info()"
   ]
  },
  {
   "cell_type": "code",
   "execution_count": null,
   "id": "63fcede0",
   "metadata": {},
   "outputs": [],
   "source": [
    "from datetime import datetime\n",
    "dataset['Date'] = pd.to_datetime(dataset['Date'])\n",
    "train_df['Date'] = pd.to_datetime(train_df['Date'])\n",
    "test_df['Date'] = pd.to_datetime(test_df['Date'])"
   ]
  },
  {
   "cell_type": "code",
   "execution_count": null,
   "id": "92914ffd",
   "metadata": {},
   "outputs": [],
   "source": [
    "train_df.info()"
   ]
  },
  {
   "cell_type": "code",
   "execution_count": null,
   "id": "5d5b641f",
   "metadata": {},
   "outputs": [],
   "source": [
    "dataset.info()"
   ]
  },
  {
   "cell_type": "code",
   "execution_count": null,
   "id": "cb08384e",
   "metadata": {},
   "outputs": [],
   "source": [
    "dataset['Week'] = dataset.Date.dt.week # for the week data\n",
    "dataset['Year'] = dataset.Date.dt.year # for the year data\n",
    "dataset.head()"
   ]
  },
  {
   "cell_type": "code",
   "execution_count": null,
   "id": "c49b09b1",
   "metadata": {},
   "outputs": [],
   "source": [
    "# Merging with train_df\n",
    "\n",
    "train_merge = train_df.merge(dataset, how='inner', on=['Store', 'Date', 'IsHoliday']).sort_values(by=['Store','Dept','Date']).reset_index(drop=True)"
   ]
  },
  {
   "cell_type": "code",
   "execution_count": null,
   "id": "2a1dd8df",
   "metadata": {},
   "outputs": [],
   "source": [
    "# Merging with test_df\n",
    "\n",
    "test_merge = test_df.merge(dataset, how='inner', on=['Store', 'Date', 'IsHoliday']).sort_values(by=['Store','Dept','Date']).reset_index(drop=True)"
   ]
  },
  {
   "cell_type": "code",
   "execution_count": null,
   "id": "72103abe",
   "metadata": {},
   "outputs": [],
   "source": [
    "def scatter(train_merge, column):\n",
    "    plt.figure()\n",
    "    plt.scatter(train_merge[column] , train_merge['Weekly_Sales'])\n",
    "    plt.ylabel('Weekly_Sales')\n",
    "    plt.xlabel(column)"
   ]
  },
  {
   "cell_type": "code",
   "execution_count": null,
   "id": "5bcf8a56",
   "metadata": {},
   "outputs": [],
   "source": [
    "scatter(train_merge, 'Fuel_Price')  # with respect to Fuel_Price\n",
    "scatter(train_merge, 'Size')  # with respect to Size\n",
    "scatter(train_merge, 'CPI')  # with respect to CPI\n",
    "scatter(train_merge, 'Type')  # with respect to Type\n",
    "scatter(train_merge, 'IsHoliday') # with respect to IsHoliday\n",
    "scatter(train_merge, 'Unemployment')  # with respect to Unemployment\n",
    "scatter(train_merge, 'Temperature') # with respect to Temperature\n",
    "scatter(train_merge, 'Store') # with respect to Store\n",
    "scatter(train_merge, 'Dept')  # with respect to Dept"
   ]
  },
  {
   "cell_type": "code",
   "execution_count": null,
   "id": "f5dd62ce",
   "metadata": {},
   "outputs": [],
   "source": [
    "# Average Weekly Sales for the year 2010\n",
    "weekly_sales_2010 = train_merge[train_merge['Year']==2010]['Weekly_Sales'].groupby(train_merge['Week']).mean()\n",
    "\n",
    "sns.lineplot(weekly_sales_2010.index, weekly_sales_2010.values) # for plotting then lineplot"
   ]
  },
  {
   "cell_type": "code",
   "execution_count": null,
   "id": "89a99e18",
   "metadata": {},
   "outputs": [],
   "source": [
    "# Average Weekly Sales for the year 2011\n",
    "weekly_sales_2011 = train_merge[train_merge['Year']==2011]['Weekly_Sales'].groupby(train_merge['Week']).mean()\n",
    "\n",
    "sns.lineplot(weekly_sales_2011.index, weekly_sales_2011.values) # for plotting then lineplot"
   ]
  },
  {
   "cell_type": "code",
   "execution_count": null,
   "id": "1b7c9b76",
   "metadata": {},
   "outputs": [],
   "source": [
    "# Average Weekly Sales for the year 2012\n",
    "weekly_sales_2012 = train_merge[train_merge['Year']==2012]['Weekly_Sales'].groupby(train_merge['Week']).mean()\n",
    "\n",
    "sns.lineplot(weekly_sales_2012.index, weekly_sales_2012.values) # for plotting then lineplot"
   ]
  },
  {
   "cell_type": "code",
   "execution_count": null,
   "id": "d9f0cc95",
   "metadata": {},
   "outputs": [],
   "source": [
    "# Plotting the above three plot together \n",
    "plt.figure(figsize=(20,8))\n",
    "sns.lineplot(weekly_sales_2010.index, weekly_sales_2010.values)\n",
    "sns.lineplot(weekly_sales_2011.index, weekly_sales_2011.values)\n",
    "sns.lineplot(weekly_sales_2012.index, weekly_sales_2012.values)\n",
    "plt.grid()\n",
    "plt.xticks(np.arange(1,60, step=1))\n",
    "plt.legend(['2010', '2011', '2012'], loc='best', fontsize=16)\n",
    "plt.title('Average Weekly Sales Per Year', fontsize=20)\n",
    "plt.ylabel('Sales', fontsize=16)\n",
    "plt.xlabel('Week', fontsize=16)\n",
    "plt.show()"
   ]
  },
  {
   "cell_type": "code",
   "execution_count": null,
   "id": "17c70a3c",
   "metadata": {},
   "outputs": [],
   "source": [
    "# Average Sales per Department\n",
    "\n",
    "weekly_sales = train_merge['Weekly_Sales'].groupby(train_merge['Dept']).mean()\n",
    "plt.figure(figsize=(25,12))\n",
    "sns.barplot(weekly_sales.index, weekly_sales.values, palette='dark')\n",
    "plt.grid()\n",
    "plt.title('Average Sales per Department', fontsize=20)\n",
    "plt.xlabel('Department', fontsize=16)\n",
    "plt.ylabel('Sales', fontsize=16)\n",
    "plt.show()"
   ]
  },
  {
   "cell_type": "code",
   "execution_count": null,
   "id": "c0ab942d",
   "metadata": {},
   "outputs": [],
   "source": [
    "# Average Sales per Store\n",
    "\n",
    "weekly_sales = train_merge['Weekly_Sales'].groupby(train_merge['Store']).mean()\n",
    "plt.figure(figsize=(20,12))\n",
    "sns.barplot(weekly_sales.index, weekly_sales.values, palette='dark')\n",
    "plt.grid()\n",
    "plt.title('Average Sales per Store', fontsize=20)\n",
    "plt.xlabel('Store', fontsize=16)\n",
    "plt.ylabel('Sales', fontsize=16)\n",
    "plt.show()"
   ]
  },
  {
   "cell_type": "code",
   "execution_count": null,
   "id": "837dfa87",
   "metadata": {},
   "outputs": [],
   "source": [
    "sns.set(style = \"white\")\n",
    "\n",
    "corr = train_merge.corr()\n",
    "\n",
    "mask = np.triu(np.ones_like(corr, dtype=np.bool))\n",
    "\n",
    "f, ax = plt.subplots(figsize=(20, 15))\n",
    "\n",
    "cmap = sns.diverging_palette(220, 10, as_cmap=True)\n",
    "\n",
    "plt.title('Correlation Matrix', fontsize=18)\n",
    "\n",
    "sns.heatmap(corr, mask=mask, cmap=cmap, vmax=.3, center=0, square=True, linewidths=.5, cbar_kws={\"shrink\": .5}, annot=True)\n",
    "\n",
    "plt.show()"
   ]
  },
  {
   "cell_type": "code",
   "execution_count": null,
   "id": "37a4e295",
   "metadata": {},
   "outputs": [],
   "source": [
    "# Dropping down the variables that have weak correlation\n",
    "\n",
    "train_merge = train_merge.drop(columns=['Fuel_Price', 'MarkDown1', 'MarkDown2', 'MarkDown3', 'MarkDown4', 'MarkDown5'])\n",
    "test_merge = test_merge.drop(columns=['Fuel_Price', 'MarkDown1', 'MarkDown2', 'MarkDown3', 'MarkDown4', 'MarkDown5'])"
   ]
  },
  {
   "cell_type": "code",
   "execution_count": null,
   "id": "aec1eb1f",
   "metadata": {},
   "outputs": [],
   "source": [
    "train_merge.head()"
   ]
  },
  {
   "cell_type": "code",
   "execution_count": null,
   "id": "74a0551d",
   "metadata": {},
   "outputs": [],
   "source": [
    "test_merge.head()"
   ]
  },
  {
   "cell_type": "code",
   "execution_count": null,
   "id": "97e1b2f6",
   "metadata": {},
   "outputs": [],
   "source": [
    "# Counting the number of unique values\n",
    "train_df['Dept'].nunique()"
   ]
  },
  {
   "cell_type": "code",
   "execution_count": null,
   "id": "c1f78776",
   "metadata": {},
   "outputs": [],
   "source": [
    "# Counting the number of unique values\n",
    "train_df['Store'].nunique()"
   ]
  },
  {
   "cell_type": "code",
   "execution_count": null,
   "id": "82f5d238",
   "metadata": {},
   "outputs": [],
   "source": [
    "# Getting the columns in the train_merge \n",
    "train_merge.columns"
   ]
  },
  {
   "cell_type": "code",
   "execution_count": null,
   "id": "c3b4e358",
   "metadata": {},
   "outputs": [],
   "source": [
    "# Getting the columns in test_merge\n",
    "test_merge.columns"
   ]
  },
  {
   "cell_type": "code",
   "execution_count": null,
   "id": "92d00a3e",
   "metadata": {},
   "outputs": [],
   "source": [
    "#dividing the data into train and test\n",
    "X = train_merge[['Store','Dept','IsHoliday','Size','Week','Year']] # Selecting the values to be taken in the X\n",
    "y = train_merge['Weekly_Sales'] "
   ]
  },
  {
   "cell_type": "code",
   "execution_count": null,
   "id": "603c5bc8",
   "metadata": {},
   "outputs": [],
   "source": [
    "# Splitting the data into Train and Test\n",
    "#model building \n",
    "X_train, X_test, y_train, y_test = train_test_split(X, y, test_size = 0.3, random_state = 42)"
   ]
  },
  {
   "cell_type": "code",
   "execution_count": null,
   "id": "48b8c3c6",
   "metadata": {},
   "outputs": [],
   "source": [
    "X_train.info()"
   ]
  },
  {
   "cell_type": "code",
   "execution_count": null,
   "id": "2d8800f1",
   "metadata": {},
   "outputs": [],
   "source": [
    "# Performing GridSearchCV on Ridge Regression\n",
    "params = {'alpha' : [0.0001, 0.001, 0.01, 0.1, 1, 10, 100, 1000, 10000, 100000]}\n",
    "ridge_regressor = GridSearchCV(Ridge(), params, cv = 7, scoring = 'neg_mean_absolute_error', n_jobs = -1)\n",
    "ridge_regressor.fit(X_train, y_train)"
   ]
  },
  {
   "cell_type": "code",
   "execution_count": null,
   "id": "17d20204",
   "metadata": {},
   "outputs": [],
   "source": [
    "# Predicting train and test results\n",
    "y_train_pred = ridge_regressor.predict(X_train)\n",
    "y_test_pred = ridge_regressor.predict(X_test)"
   ]
  },
  {
   "cell_type": "code",
   "execution_count": null,
   "id": "95e08124",
   "metadata": {},
   "outputs": [],
   "source": [
    "print(\"Train Results for Ridge Regressor Model:\")\n",
    "print(\"Root Mean Squared Error: \", sqrt(mse(y_train.values, y_train_pred)))\n",
    "print(\"R-Squared: \", r2_score(y_train.values, y_train_pred))"
   ]
  },
  {
   "cell_type": "code",
   "execution_count": null,
   "id": "7c812717",
   "metadata": {},
   "outputs": [],
   "source": [
    "print(\"Test Results for Ridge Regressor Model:\")\n",
    "print(\"Root Mean Squared Error: \", sqrt(mse(y_test.values, y_test_pred)))\n",
    "print(\"R-Squared: \", r2_score(y_test.values, y_test_pred))"
   ]
  },
  {
   "cell_type": "code",
   "execution_count": null,
   "id": "a83e79f5",
   "metadata": {},
   "outputs": [],
   "source": [
    "# Performing GridSearchCV on Lasso Regression\n",
    "params = {'alpha' : [0.0001, 0.001, 0.01, 0.1, 1, 10, 100, 1000, 10000, 100000]}\n",
    "lasso_regressor = GridSearchCV(Lasso(), params ,cv = 15,scoring = 'neg_mean_absolute_error', n_jobs = -1)\n",
    "lasso_regressor.fit(X_train, y_train)"
   ]
  },
  {
   "cell_type": "code",
   "execution_count": null,
   "id": "8f1c31b2",
   "metadata": {},
   "outputs": [],
   "source": [
    "# Predicting train and test results\n",
    "y_train_pred = lasso_regressor.predict(X_train)\n",
    "y_test_pred = lasso_regressor.predict(X_test)"
   ]
  },
  {
   "cell_type": "code",
   "execution_count": null,
   "id": "1e8e243f",
   "metadata": {},
   "outputs": [],
   "source": [
    "print(\"Train Results for Lasso Regressor Model:\")\n",
    "print(\"Root Mean Squared Error: \", sqrt(mse(y_train.values, y_train_pred)))\n",
    "print(\"R-Squared: \", r2_score(y_train.values, y_train_pred))"
   ]
  },
  {
   "cell_type": "code",
   "execution_count": null,
   "id": "2b05f83a",
   "metadata": {},
   "outputs": [],
   "source": [
    "print(\"Test Results for Lasso Regressor Model:\")\n",
    "print(\"Root Mean squared Error: \", sqrt(mse(y_test, y_test_pred)))\n",
    "print(\"R-Squared: \", r2_score(y_test, y_test_pred))"
   ]
  },
  {
   "cell_type": "code",
   "execution_count": null,
   "id": "a8f6aed8",
   "metadata": {},
   "outputs": [],
   "source": [
    "# Performing GridSearchCV on Decision Tree Regression\n",
    "from sklearn.tree import DecisionTreeRegressor\n",
    "\n",
    "depth = list(range(3,30))\n",
    "param_grid = dict(max_depth = depth)\n",
    "tree = GridSearchCV(DecisionTreeRegressor(), param_grid, cv = 10)\n",
    "tree.fit(X_train,y_train)"
   ]
  },
  {
   "cell_type": "code",
   "execution_count": null,
   "id": "38850f7c",
   "metadata": {},
   "outputs": [],
   "source": [
    "# Predicting train and test results\n",
    "y_train_pred = tree.predict(X_train)\n",
    "y_test_pred = tree.predict(X_test)"
   ]
  },
  {
   "cell_type": "code",
   "execution_count": null,
   "id": "f81e67f3",
   "metadata": {},
   "outputs": [],
   "source": [
    "print(\"Train Results for Decision Tree Regressor Model:\")\n",
    "print(\"Root Mean squared Error: \", sqrt(mse(y_train.values, y_train_pred)))\n",
    "print(\"R-Squared: \", r2_score(y_train.values, y_train_pred))"
   ]
  },
  {
   "cell_type": "code",
   "execution_count": null,
   "id": "8630825f",
   "metadata": {},
   "outputs": [],
   "source": [
    "print(\"Test Results for Decision Tree Regressor Model:\")\n",
    "print(\"Root Mean Squared Error: \", sqrt(mse(y_test, y_test_pred)))\n",
    "print(\"R-Squared: \", r2_score(y_test, y_test_pred))"
   ]
  },
  {
   "cell_type": "code",
   "execution_count": null,
   "id": "2a8393c6",
   "metadata": {},
   "outputs": [],
   "source": [
    "# Performing RandomsearchCV on Random Forest Regression\n",
    "from sklearn.ensemble import RandomForestRegressor\n",
    "tuned_params = {'n_estimators': [100, 200], 'min_samples_split': [2, 5, 10], 'min_samples_leaf': [1, 2, 4]}  \n",
    "random_regressor = RandomizedSearchCV(RandomForestRegressor(), tuned_params, n_iter = 3, scoring = 'neg_mean_absolute_error', cv = 3, n_jobs = -1)\n",
    "random_regressor.fit(X_train, y_train)"
   ]
  },
  {
   "cell_type": "code",
   "execution_count": null,
   "id": "367160cf",
   "metadata": {},
   "outputs": [],
   "source": [
    "# Predicting train and test results\n",
    "y_train_pred = random_regressor.predict(X_train)\n",
    "y_test_pred = random_regressor.predict(X_test)"
   ]
  },
  {
   "cell_type": "code",
   "execution_count": null,
   "id": "57908262",
   "metadata": {},
   "outputs": [],
   "source": [
    "print(\"Train Results for Random Forest Regressor Model:\")\n",
    "print(\"Root Mean Squared Error: \", sqrt(mse(y_train.values, y_train_pred)))\n",
    "print(\"R-Squared: \", r2_score(y_train.values, y_train_pred))"
   ]
  },
  {
   "cell_type": "code",
   "execution_count": null,
   "id": "7b2f23f5",
   "metadata": {},
   "outputs": [],
   "source": [
    "print(\"Test Results for Random Forest Regressor Model:\")\n",
    "print(\"Root Mean Squared Error: \", sqrt(mse(y_test, y_test_pred)))\n",
    "print(\"R-Squared: \", r2_score(y_test, y_test_pred))"
   ]
  },
  {
   "cell_type": "code",
   "execution_count": null,
   "id": "e0a8bef8",
   "metadata": {},
   "outputs": [],
   "source": []
  }
 ],
 "metadata": {
  "kernelspec": {
   "display_name": "Python 3 (ipykernel)",
   "language": "python",
   "name": "python3"
  },
  "language_info": {
   "codemirror_mode": {
    "name": "ipython",
    "version": 3
   },
   "file_extension": ".py",
   "mimetype": "text/x-python",
   "name": "python",
   "nbconvert_exporter": "python",
   "pygments_lexer": "ipython3",
   "version": "3.9.12"
  }
 },
 "nbformat": 4,
 "nbformat_minor": 5
}
